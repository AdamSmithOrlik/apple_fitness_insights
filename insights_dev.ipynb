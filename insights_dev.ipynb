{
 "cells": [
  {
   "cell_type": "code",
   "execution_count": 1,
   "metadata": {},
   "outputs": [],
   "source": [
    "from data import Data\n",
    "\n",
    "import matplotlib.pyplot as plt\n",
    "import pandas as pd\n",
    "import os\n",
    "from tools import *"
   ]
  },
  {
   "cell_type": "markdown",
   "metadata": {},
   "source": [
    "# load in the clean dataframe"
   ]
  },
  {
   "cell_type": "code",
   "execution_count": 2,
   "metadata": {},
   "outputs": [],
   "source": [
    "filename = os.getcwd() + '/data/apple_health_export/export.xml'\n",
    "\n",
    "data = Data(filename)"
   ]
  },
  {
   "cell_type": "markdown",
   "metadata": {},
   "source": [
    "# List of insights "
   ]
  },
  {
   "cell_type": "markdown",
   "metadata": {},
   "source": [
    "1. You have had your watch since... \n",
    "2. You wore your watch x days since you got it\n",
    "3. Our of those days you have tracked an activity on x% of those days \n",
    "4. The most workouts you tracked in a day way x on date. \n",
    "5. Since you've had your watch you have burned a total of x amount of active calories \n",
    "6. And you've spent x amount of hours tracking activity\n",
    "7. The most calories you've burned during one exercise was x activity on date. \n",
    "8. You're top activities are x,y,z\n",
    "9. You've spent x amount of hours on your top activities. \n",
    "10. Heres the breakdown for all your activities (bar chart for activity by total duration in hours)\n",
    "11. You works hard! Here are your activities by the most intense! (bar chart of Claories per minute by workout type)  "
   ]
  },
  {
   "cell_type": "markdown",
   "metadata": {},
   "source": [
    "# 1: watch usage "
   ]
  },
  {
   "cell_type": "markdown",
   "metadata": {},
   "source": [
    "# "
   ]
  },
  {
   "cell_type": "code",
   "execution_count": 4,
   "metadata": {},
   "outputs": [],
   "source": [
    "usage = data.get_usage()"
   ]
  },
  {
   "cell_type": "code",
   "execution_count": 6,
   "metadata": {},
   "outputs": [
    {
     "data": {
      "text/plain": [
       "'1 hour and 22.0 minutes'"
      ]
     },
     "execution_count": 6,
     "metadata": {},
     "output_type": "execute_result"
    }
   ],
   "source": [
    "average_exercise_time_string = hours_to_string(usage['total_hours']/usage['dates_used'])\n",
    "average_exercise_time_string"
   ]
  },
  {
   "cell_type": "code",
   "execution_count": 8,
   "metadata": {},
   "outputs": [
    {
     "name": "stdout",
     "output_type": "stream",
     "text": [
      "You first started using your watch on May 13, 2021\n",
      "Since then you have used your watch for 980 days. That is 91.16% of days.\n",
      "Of the days you use your watch, you have tracked a workout on 678 of those days.\n",
      "You have spent 1345.0 hours tracking activity. That is an average of 1 hour and 22.0 minutes per day that you use your watch.\n"
     ]
    }
   ],
   "source": [
    "print(f\"You first started using your watch on {usage['first_use'].strftime('%B %d, %Y')}\")\n",
    "\n",
    "print(f\"Since then you have used your watch for {usage['dates_used']} days. That is {usage['dates_used']/usage['total_days'] *100:.2f}% of days.\")\n",
    "\n",
    "print(f\"Of the days you use your watch, you have tracked a workout on {usage['days_workout_tracked']} of those days.\")\n",
    "\n",
    "print(f\"You have spent {usage['total_hours']} hours tracking activity. That is an average of {average_exercise_time_string} per day that you use your watch.\")\n",
    "\n",
    "\n"
   ]
  },
  {
   "cell_type": "markdown",
   "metadata": {},
   "source": [
    "# 2: Activity stats"
   ]
  },
  {
   "cell_type": "code",
   "execution_count": 10,
   "metadata": {},
   "outputs": [
    {
     "name": "stdout",
     "output_type": "stream",
     "text": [
      "You have tracked a total of 993 activities.\n"
     ]
    }
   ],
   "source": [
    "print(f\"You have tracked a total of {usage['total_num_workouts']} activities.\")"
   ]
  },
  {
   "cell_type": "code",
   "execution_count": 11,
   "metadata": {},
   "outputs": [],
   "source": [
    "df = data.get_workout_dataframe()"
   ]
  },
  {
   "cell_type": "code",
   "execution_count": 12,
   "metadata": {},
   "outputs": [
    {
     "data": {
      "text/plain": [
       "Index(['workoutActivityType', 'duration', 'durationUnit', 'creationDate',\n",
       "       'startDate', 'endDate', 'Type', 'activeCalories', 'basalCalories',\n",
       "       'distance', 'avgHeartRate', 'minHeartRate', 'maxHeartRate',\n",
       "       'avgRunSpeed', 'minRunSpeed', 'maxRunSpeed', 'totalCalories'],\n",
       "      dtype='object')"
      ]
     },
     "execution_count": 12,
     "metadata": {},
     "output_type": "execute_result"
    }
   ],
   "source": [
    "df.columns"
   ]
  },
  {
   "cell_type": "code",
   "execution_count": 1,
   "metadata": {},
   "outputs": [
    {
     "ename": "NameError",
     "evalue": "name 'df' is not defined",
     "output_type": "error",
     "traceback": [
      "\u001b[0;31m---------------------------------------------------------------------------\u001b[0m",
      "\u001b[0;31mNameError\u001b[0m                                 Traceback (most recent call last)",
      "Cell \u001b[0;32mIn[1], line 2\u001b[0m\n\u001b[1;32m      1\u001b[0m \u001b[38;5;66;03m# get the top activity\u001b[39;00m\n\u001b[0;32m----> 2\u001b[0m \u001b[43mdf\u001b[49m\u001b[38;5;241m.\u001b[39mgroupby(\u001b[38;5;124m'\u001b[39m\u001b[38;5;124mType\u001b[39m\u001b[38;5;124m'\u001b[39m)[\u001b[38;5;124m'\u001b[39m\u001b[38;5;124mduration\u001b[39m\u001b[38;5;124m'\u001b[39m]\u001b[38;5;241m.\u001b[39msum()\u001b[38;5;241m.\u001b[39msort_values(ascending\u001b[38;5;241m=\u001b[39m\u001b[38;5;28;01mFalse\u001b[39;00m)\n",
      "\u001b[0;31mNameError\u001b[0m: name 'df' is not defined"
     ]
    }
   ],
   "source": [
    "# get the top activity\n",
    "df.groupby('Type')['duration'].sum().sort_values(ascending=False)"
   ]
  },
  {
   "cell_type": "code",
   "execution_count": null,
   "metadata": {},
   "outputs": [],
   "source": []
  },
  {
   "cell_type": "markdown",
   "metadata": {},
   "source": [
    "# Testing new Data components "
   ]
  },
  {
   "cell_type": "code",
   "execution_count": 16,
   "metadata": {},
   "outputs": [
    {
     "ename": "NameError",
     "evalue": "name 'hours_to_string' is not defined",
     "output_type": "error",
     "traceback": [
      "\u001b[0;31m---------------------------------------------------------------------------\u001b[0m",
      "\u001b[0;31mNameError\u001b[0m                                 Traceback (most recent call last)",
      "Cell \u001b[0;32mIn[16], line 1\u001b[0m\n\u001b[0;32m----> 1\u001b[0m \u001b[43mhours_to_string\u001b[49m(\u001b[38;5;241m1.23\u001b[39m)\n",
      "\u001b[0;31mNameError\u001b[0m: name 'hours_to_string' is not defined"
     ]
    }
   ],
   "source": [
    "hours_to_string(1.23)"
   ]
  },
  {
   "cell_type": "code",
   "execution_count": null,
   "metadata": {},
   "outputs": [],
   "source": []
  }
 ],
 "metadata": {
  "kernelspec": {
   "display_name": "tf",
   "language": "python",
   "name": "python3"
  },
  "language_info": {
   "codemirror_mode": {
    "name": "ipython",
    "version": 3
   },
   "file_extension": ".py",
   "mimetype": "text/x-python",
   "name": "python",
   "nbconvert_exporter": "python",
   "pygments_lexer": "ipython3",
   "version": "3.11.10"
  }
 },
 "nbformat": 4,
 "nbformat_minor": 2
}
