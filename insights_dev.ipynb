{
 "cells": [
  {
   "cell_type": "code",
   "execution_count": 1,
   "metadata": {},
   "outputs": [],
   "source": [
    "from data import Data\n",
    "\n",
    "import matplotlib.pyplot as plt\n",
    "import pandas as pd\n",
    "import os\n",
    "from tools import *"
   ]
  },
  {
   "cell_type": "code",
   "execution_count": 2,
   "metadata": {},
   "outputs": [
    {
     "data": {
      "text/plain": [
       "'1 hour and 14.0 minutes'"
      ]
     },
     "execution_count": 2,
     "metadata": {},
     "output_type": "execute_result"
    }
   ],
   "source": [
    "hours_to_string(1.23)"
   ]
  },
  {
   "cell_type": "markdown",
   "metadata": {},
   "source": [
    "# load in the clean dataframe"
   ]
  },
  {
   "cell_type": "code",
   "execution_count": 3,
   "metadata": {},
   "outputs": [],
   "source": [
    "filename = os.getcwd() + '/data/apple_health_export/export.xml'\n",
    "\n",
    "data = Data(filename)"
   ]
  },
  {
   "cell_type": "code",
   "execution_count": 3,
   "metadata": {},
   "outputs": [
    {
     "data": {
      "text/plain": [
       "(27, False)"
      ]
     },
     "execution_count": 3,
     "metadata": {},
     "output_type": "execute_result"
    }
   ],
   "source": [
    "data.age()"
   ]
  },
  {
   "cell_type": "code",
   "execution_count": 4,
   "metadata": {},
   "outputs": [
    {
     "name": "stdout",
     "output_type": "stream",
     "text": [
      "{'first_use': datetime.date(2021, 5, 13), 'dates_used': 980, 'total_days': 1075, 'days_workout_tracked': 678}\n"
     ]
    }
   ],
   "source": [
    "d = data.get_usage()\n",
    "print(d)"
   ]
  },
  {
   "cell_type": "markdown",
   "metadata": {},
   "source": [
    "# List of insights "
   ]
  },
  {
   "cell_type": "markdown",
   "metadata": {},
   "source": [
    "1. You have had your watch since... \n",
    "2. You wore your watch x days since you got it\n",
    "3. Our of those days you have tracked an activity on x% of those days \n",
    "4. The most workouts you tracked in a day way x on date. \n",
    "5. Since you've had your watch you have burned a total of x amount of active calories \n",
    "6. And you've spent x amount of hours tracking activity\n",
    "7. The most calories you've burned during one exercise was x activity on date. \n",
    "8. You're top activities are x,y,z\n",
    "9. You've spent x amount of hours on your top activities. \n",
    "10. Heres the breakdown for all your activities (bar chart for activity by total duration in hours)\n",
    "11. You works hard! Here are your activities by the most intense! (bar chart of Claories per minute by workout type)  "
   ]
  },
  {
   "cell_type": "markdown",
   "metadata": {},
   "source": [
    "# 1: watch usage "
   ]
  },
  {
   "cell_type": "markdown",
   "metadata": {},
   "source": [
    "# "
   ]
  },
  {
   "cell_type": "code",
   "execution_count": 4,
   "metadata": {},
   "outputs": [],
   "source": [
    "usage = data.get_usage()"
   ]
  },
  {
   "cell_type": "code",
   "execution_count": 6,
   "metadata": {},
   "outputs": [
    {
     "data": {
      "text/plain": [
       "'1 hour and 22.0 minutes'"
      ]
     },
     "execution_count": 6,
     "metadata": {},
     "output_type": "execute_result"
    }
   ],
   "source": [
    "average_exercise_time_string = hours_to_string(usage['total_hours']/usage['dates_used'])\n",
    "average_exercise_time_string"
   ]
  },
  {
   "cell_type": "code",
   "execution_count": 8,
   "metadata": {},
   "outputs": [
    {
     "name": "stdout",
     "output_type": "stream",
     "text": [
      "You first started using your watch on May 13, 2021\n",
      "Since then you have used your watch for 980 days. That is 91.16% of days.\n",
      "Of the days you use your watch, you have tracked a workout on 678 of those days.\n",
      "You have spent 1345.0 hours tracking activity. That is an average of 1 hour and 22.0 minutes per day that you use your watch.\n"
     ]
    }
   ],
   "source": [
    "print(f\"You first started using your watch on {usage['first_use'].strftime('%B %d, %Y')}\")\n",
    "\n",
    "print(f\"Since then you have used your watch for {usage['dates_used']} days. That is {usage['dates_used']/usage['total_days'] *100:.2f}% of days.\")\n",
    "\n",
    "print(f\"Of the days you use your watch, you have tracked a workout on {usage['days_workout_tracked']} of those days.\")\n",
    "\n",
    "print(f\"You have spent {usage['total_hours']} hours tracking activity. That is an average of {average_exercise_time_string} per day that you use your watch.\")\n",
    "\n",
    "\n"
   ]
  },
  {
   "cell_type": "markdown",
   "metadata": {},
   "source": [
    "# 2: Activity stats"
   ]
  },
  {
   "cell_type": "code",
   "execution_count": 10,
   "metadata": {},
   "outputs": [
    {
     "name": "stdout",
     "output_type": "stream",
     "text": [
      "You have tracked a total of 993 activities.\n"
     ]
    }
   ],
   "source": [
    "print(f\"You have tracked a total of {usage['total_num_workouts']} activities.\")"
   ]
  },
  {
   "cell_type": "code",
   "execution_count": 11,
   "metadata": {},
   "outputs": [],
   "source": [
    "df = data.get_workout_dataframe()"
   ]
  },
  {
   "cell_type": "code",
   "execution_count": 12,
   "metadata": {},
   "outputs": [
    {
     "data": {
      "text/plain": [
       "Index(['workoutActivityType', 'duration', 'durationUnit', 'creationDate',\n",
       "       'startDate', 'endDate', 'Type', 'activeCalories', 'basalCalories',\n",
       "       'distance', 'avgHeartRate', 'minHeartRate', 'maxHeartRate',\n",
       "       'avgRunSpeed', 'minRunSpeed', 'maxRunSpeed', 'totalCalories'],\n",
       "      dtype='object')"
      ]
     },
     "execution_count": 12,
     "metadata": {},
     "output_type": "execute_result"
    }
   ],
   "source": [
    "df.columns"
   ]
  },
  {
   "cell_type": "code",
   "execution_count": 18,
   "metadata": {},
   "outputs": [
    {
     "data": {
      "text/plain": [
       "Type\n",
       "AmericanFootball                    41.122021\n",
       "Basketball                          82.492111\n",
       "CardioDance                        110.436624\n",
       "Cooldown                            45.292655\n",
       "CoreTraining                         6.315479\n",
       "Cycling                            865.530062\n",
       "DiscSports                         237.374036\n",
       "FunctionalStrengthTraining         132.522004\n",
       "Golf                              1265.280044\n",
       "HighIntensityIntervalTraining       36.519530\n",
       "Hiking                              81.464747\n",
       "Hockey                             649.343374\n",
       "Other                              217.064227\n",
       "Rowing                             139.104915\n",
       "Rugby                               91.957363\n",
       "Running                            466.108902\n",
       "SkatingSports                       93.479579\n",
       "Soccer                             980.885700\n",
       "Squash                             471.724392\n",
       "TableTennis                        119.767235\n",
       "Tennis                           21473.603853\n",
       "TraditionalStrengthTraining      35380.447896\n",
       "Volleyball                         443.102707\n",
       "Walking                           3569.561292\n",
       "Yoga                                70.233555\n",
       "Name: duration, dtype: float64"
      ]
     },
     "execution_count": 18,
     "metadata": {},
     "output_type": "execute_result"
    }
   ],
   "source": [
    "# get the top activity\n",
    "df.groupby('Type')['duration'].sum()"
   ]
  },
  {
   "cell_type": "markdown",
   "metadata": {},
   "source": [
    "# Testing new Data components "
   ]
  },
  {
   "cell_type": "code",
   "execution_count": 16,
   "metadata": {},
   "outputs": [
    {
     "ename": "NameError",
     "evalue": "name 'hours_to_string' is not defined",
     "output_type": "error",
     "traceback": [
      "\u001b[0;31m---------------------------------------------------------------------------\u001b[0m",
      "\u001b[0;31mNameError\u001b[0m                                 Traceback (most recent call last)",
      "Cell \u001b[0;32mIn[16], line 1\u001b[0m\n\u001b[0;32m----> 1\u001b[0m \u001b[43mhours_to_string\u001b[49m(\u001b[38;5;241m1.23\u001b[39m)\n",
      "\u001b[0;31mNameError\u001b[0m: name 'hours_to_string' is not defined"
     ]
    }
   ],
   "source": [
    "hours_to_string(1.23)"
   ]
  },
  {
   "cell_type": "code",
   "execution_count": null,
   "metadata": {},
   "outputs": [],
   "source": []
  }
 ],
 "metadata": {
  "kernelspec": {
   "display_name": "tf",
   "language": "python",
   "name": "python3"
  },
  "language_info": {
   "codemirror_mode": {
    "name": "ipython",
    "version": 3
   },
   "file_extension": ".py",
   "mimetype": "text/x-python",
   "name": "python",
   "nbconvert_exporter": "python",
   "pygments_lexer": "ipython3",
   "version": "3.11.5"
  }
 },
 "nbformat": 4,
 "nbformat_minor": 2
}
