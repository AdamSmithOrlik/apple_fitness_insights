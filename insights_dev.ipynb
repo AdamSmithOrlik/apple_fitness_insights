{
 "cells": [
  {
   "cell_type": "code",
   "execution_count": 1,
   "metadata": {},
   "outputs": [],
   "source": [
    "from data import *\n",
    "\n",
    "import matplotlib.pyplot as plt\n",
    "import pandas as pd\n",
    "import os"
   ]
  },
  {
   "cell_type": "markdown",
   "metadata": {},
   "source": [
    "# load in the clean dataframe"
   ]
  },
  {
   "cell_type": "code",
   "execution_count": 2,
   "metadata": {},
   "outputs": [],
   "source": [
    "filename = os.getcwd() + '/data/apple_health_export/export.xml'\n",
    "\n",
    "df = build_workout_dataframe(filename)"
   ]
  },
  {
   "cell_type": "markdown",
   "metadata": {},
   "source": [
    "# List of insights "
   ]
  },
  {
   "cell_type": "markdown",
   "metadata": {},
   "source": [
    "1. You have had your watch since... \n",
    "2. You wore your watch x days since you got it\n",
    "3. Our of those days you have tracked an activity on x% of those days \n",
    "4. The most workouts you tracked in a day way x on date. \n",
    "5. Since you've had your watch you have burned a total of x amount of active calories \n",
    "6. And you've spent x amount of hours tracking activity\n",
    "7. The most calories you've burned during one exercise was x activity on date. \n",
    "8. You're top activities are x,y,z\n",
    "9. You've spent x amount of hours on your top activities. \n",
    "10. Heres the breakdown for all your activities (bar chart for activity by total duration in hours)\n",
    "11. You works hard! Here are your activities by the most intense! (bar chart of Claories per minute by workout type)  "
   ]
  },
  {
   "cell_type": "markdown",
   "metadata": {},
   "source": [
    "# "
   ]
  },
  {
   "cell_type": "code",
   "execution_count": null,
   "metadata": {},
   "outputs": [],
   "source": []
  }
 ],
 "metadata": {
  "kernelspec": {
   "display_name": "tf",
   "language": "python",
   "name": "python3"
  },
  "language_info": {
   "codemirror_mode": {
    "name": "ipython",
    "version": 3
   },
   "file_extension": ".py",
   "mimetype": "text/x-python",
   "name": "python",
   "nbconvert_exporter": "python",
   "pygments_lexer": "ipython3",
   "version": "3.11.5"
  }
 },
 "nbformat": 4,
 "nbformat_minor": 2
}
