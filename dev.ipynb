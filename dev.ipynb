{
 "cells": [
  {
   "cell_type": "markdown",
   "id": "edffef0d",
   "metadata": {},
   "source": [
    "# Imports"
   ]
  },
  {
   "cell_type": "code",
   "execution_count": 2,
   "id": "3876c8e8",
   "metadata": {},
   "outputs": [],
   "source": [
    "import os \n",
    "import numpy as np\n",
    "import pandas as pd\n",
    "import matplotlib.pyplot as plt\n",
    "import seaborn as sns\n",
    "import datetime as dt\n",
    "\n",
    "import xml.etree.ElementTree as ET"
   ]
  },
  {
   "cell_type": "markdown",
   "id": "a2cb0386",
   "metadata": {},
   "source": [
    "# Load in data"
   ]
  },
  {
   "cell_type": "code",
   "execution_count": 3,
   "id": "ee18ef61",
   "metadata": {},
   "outputs": [],
   "source": [
    "path = os.path.join(os.getcwd(), 'data', 'apple_health_export/')\n",
    "\n",
    "tree = ET.parse(path + 'export.xml') \n",
    "root = tree.getroot()\n",
    "# record_list = [x.attrib for x in root.iter('Record')]"
   ]
  },
  {
   "cell_type": "code",
   "execution_count": 4,
   "id": "bbe50de6",
   "metadata": {},
   "outputs": [
    {
     "name": "stdout",
     "output_type": "stream",
     "text": [
      "{'WorkoutRoute', 'Record', 'WorkoutStatistics', 'WorkoutEvent', 'FileReference', 'HealthData', 'HeartRateVariabilityMetadataList', 'ExportDate', 'Me', 'InstantaneousBeatsPerMinute', 'ActivitySummary', 'Workout', 'MetadataEntry'}\n"
     ]
    }
   ],
   "source": [
    "# print all the elements \n",
    "data_types = set()\n",
    "\n",
    "for elem in root.iter():\n",
    "    data_types.add(elem.tag)\n",
    "\n",
    "print(data_types)"
   ]
  },
  {
   "cell_type": "code",
   "execution_count": 5,
   "id": "2a268c42",
   "metadata": {},
   "outputs": [],
   "source": [
    "# Function to load data from root into a pandas dataframe\n",
    "def load_dataframe(type):\n",
    "    return pd.DataFrame([x.attrib for x in root.iter(type)])"
   ]
  },
  {
   "cell_type": "markdown",
   "id": "228243cf",
   "metadata": {},
   "source": [
    "## Record data"
   ]
  },
  {
   "cell_type": "code",
   "execution_count": 23,
   "id": "64b26b2c",
   "metadata": {},
   "outputs": [
    {
     "data": {
      "text/html": [
       "<div>\n",
       "<style scoped>\n",
       "    .dataframe tbody tr th:only-of-type {\n",
       "        vertical-align: middle;\n",
       "    }\n",
       "\n",
       "    .dataframe tbody tr th {\n",
       "        vertical-align: top;\n",
       "    }\n",
       "\n",
       "    .dataframe thead th {\n",
       "        text-align: right;\n",
       "    }\n",
       "</style>\n",
       "<table border=\"1\" class=\"dataframe\">\n",
       "  <thead>\n",
       "    <tr style=\"text-align: right;\">\n",
       "      <th></th>\n",
       "      <th>type</th>\n",
       "      <th>sourceName</th>\n",
       "      <th>sourceVersion</th>\n",
       "      <th>unit</th>\n",
       "      <th>creationDate</th>\n",
       "      <th>startDate</th>\n",
       "      <th>endDate</th>\n",
       "      <th>value</th>\n",
       "      <th>device</th>\n",
       "    </tr>\n",
       "  </thead>\n",
       "  <tbody>\n",
       "    <tr>\n",
       "      <th>1957733</th>\n",
       "      <td>HeartRateVariabilitySDNN</td>\n",
       "      <td>Adam’s Apple Watch</td>\n",
       "      <td>10.4</td>\n",
       "      <td>ms</td>\n",
       "      <td>2024-04-15 19:06:33-04:00</td>\n",
       "      <td>2024-04-15 19:05:32-04:00</td>\n",
       "      <td>2024-04-15 19:06:22-04:00</td>\n",
       "      <td>42.6500</td>\n",
       "      <td>&lt;&lt;HKDevice: 0x302cc7e80&gt;, name:Apple Watch, ma...</td>\n",
       "    </tr>\n",
       "    <tr>\n",
       "      <th>1957734</th>\n",
       "      <td>HeartRateVariabilitySDNN</td>\n",
       "      <td>Adam’s Apple Watch</td>\n",
       "      <td>10.4</td>\n",
       "      <td>ms</td>\n",
       "      <td>2024-04-15 22:16:38-04:00</td>\n",
       "      <td>2024-04-15 22:15:36-04:00</td>\n",
       "      <td>2024-04-15 22:16:36-04:00</td>\n",
       "      <td>17.7810</td>\n",
       "      <td>&lt;&lt;HKDevice: 0x302cc7e80&gt;, name:Apple Watch, ma...</td>\n",
       "    </tr>\n",
       "    <tr>\n",
       "      <th>1957735</th>\n",
       "      <td>HeartRateVariabilitySDNN</td>\n",
       "      <td>Adam’s Apple Watch</td>\n",
       "      <td>10.4</td>\n",
       "      <td>ms</td>\n",
       "      <td>2024-04-15 22:39:22-04:00</td>\n",
       "      <td>2024-04-15 22:38:21-04:00</td>\n",
       "      <td>2024-04-15 22:39:21-04:00</td>\n",
       "      <td>72.5745</td>\n",
       "      <td>&lt;&lt;HKDevice: 0x302cc7e80&gt;, name:Apple Watch, ma...</td>\n",
       "    </tr>\n",
       "    <tr>\n",
       "      <th>1957736</th>\n",
       "      <td>HeartRateVariabilitySDNN</td>\n",
       "      <td>Adam’s Apple Watch</td>\n",
       "      <td>10.4</td>\n",
       "      <td>ms</td>\n",
       "      <td>2024-04-15 23:28:40-04:00</td>\n",
       "      <td>2024-04-15 23:27:39-04:00</td>\n",
       "      <td>2024-04-15 23:28:39-04:00</td>\n",
       "      <td>42.3054</td>\n",
       "      <td>&lt;&lt;HKDevice: 0x302cc7e80&gt;, name:Apple Watch, ma...</td>\n",
       "    </tr>\n",
       "    <tr>\n",
       "      <th>1957737</th>\n",
       "      <td>HeartRateVariabilitySDNN</td>\n",
       "      <td>Adam’s Apple Watch</td>\n",
       "      <td>10.4</td>\n",
       "      <td>ms</td>\n",
       "      <td>2024-04-16 01:03:51-04:00</td>\n",
       "      <td>2024-04-16 01:02:50-04:00</td>\n",
       "      <td>2024-04-16 01:03:49-04:00</td>\n",
       "      <td>49.4021</td>\n",
       "      <td>&lt;&lt;HKDevice: 0x302cc7e80&gt;, name:Apple Watch, ma...</td>\n",
       "    </tr>\n",
       "  </tbody>\n",
       "</table>\n",
       "</div>"
      ],
      "text/plain": [
       "                             type          sourceName sourceVersion unit  \\\n",
       "1957733  HeartRateVariabilitySDNN  Adam’s Apple Watch          10.4   ms   \n",
       "1957734  HeartRateVariabilitySDNN  Adam’s Apple Watch          10.4   ms   \n",
       "1957735  HeartRateVariabilitySDNN  Adam’s Apple Watch          10.4   ms   \n",
       "1957736  HeartRateVariabilitySDNN  Adam’s Apple Watch          10.4   ms   \n",
       "1957737  HeartRateVariabilitySDNN  Adam’s Apple Watch          10.4   ms   \n",
       "\n",
       "                     creationDate                 startDate  \\\n",
       "1957733 2024-04-15 19:06:33-04:00 2024-04-15 19:05:32-04:00   \n",
       "1957734 2024-04-15 22:16:38-04:00 2024-04-15 22:15:36-04:00   \n",
       "1957735 2024-04-15 22:39:22-04:00 2024-04-15 22:38:21-04:00   \n",
       "1957736 2024-04-15 23:28:40-04:00 2024-04-15 23:27:39-04:00   \n",
       "1957737 2024-04-16 01:03:51-04:00 2024-04-16 01:02:50-04:00   \n",
       "\n",
       "                          endDate    value  \\\n",
       "1957733 2024-04-15 19:06:22-04:00  42.6500   \n",
       "1957734 2024-04-15 22:16:36-04:00  17.7810   \n",
       "1957735 2024-04-15 22:39:21-04:00  72.5745   \n",
       "1957736 2024-04-15 23:28:39-04:00  42.3054   \n",
       "1957737 2024-04-16 01:03:49-04:00  49.4021   \n",
       "\n",
       "                                                    device  \n",
       "1957733  <<HKDevice: 0x302cc7e80>, name:Apple Watch, ma...  \n",
       "1957734  <<HKDevice: 0x302cc7e80>, name:Apple Watch, ma...  \n",
       "1957735  <<HKDevice: 0x302cc7e80>, name:Apple Watch, ma...  \n",
       "1957736  <<HKDevice: 0x302cc7e80>, name:Apple Watch, ma...  \n",
       "1957737  <<HKDevice: 0x302cc7e80>, name:Apple Watch, ma...  "
      ]
     },
     "execution_count": 23,
     "metadata": {},
     "output_type": "execute_result"
    }
   ],
   "source": [
    "record_data = load_dataframe('Record')\n",
    "\n",
    "# proper type to dates\n",
    "for col in ['creationDate', 'startDate', 'endDate']:\n",
    "    record_data[col] = pd.to_datetime(record_data[col])\n",
    "\n",
    "# value is numeric, NaN if fails\n",
    "record_data['value'] = pd.to_numeric(record_data['value'], errors='coerce')\n",
    "\n",
    "# some records do not measure anything, just count occurences\n",
    "# filling with 1.0 (= one time) makes it easier to aggregate\n",
    "record_data['value'] = record_data['value'].fillna(1.0)\n",
    "\n",
    "# shorter observation names\n",
    "record_data['type'] = record_data['type'].str.replace('HKQuantityTypeIdentifier', '')\n",
    "record_data['type'] = record_data['type'].str.replace('HKCategoryTypeIdentifier', '')\n",
    "record_data.tail()"
   ]
  },
  {
   "cell_type": "markdown",
   "id": "31547542",
   "metadata": {},
   "source": [
    "## Workout data"
   ]
  },
  {
   "cell_type": "code",
   "execution_count": 36,
   "id": "972804b9",
   "metadata": {},
   "outputs": [],
   "source": [
    "workout_list = [x.attrib for x in root.iter('Workout')]\n",
    "\n",
    "# create DataFrame\n",
    "workout_data = pd.DataFrame(workout_list)\n",
    "workout_data['workoutActivityType'] = workout_data['workoutActivityType'].str.replace('HKWorkoutActivityType', '')\n",
    "workout_data = workout_data.rename({\"workoutActivityType\": \"Type\"}, axis=1)\n",
    "\n",
    "# # proper type to dates\n",
    "# for col in ['creationDate', 'startDate', 'endDate']:\n",
    "#     workout_data[col] = pd.to_datetime(workout_data[col])\n",
    "\n",
    "# # convert string to numeric   \n",
    "# workout_data['duration'] = pd.to_numeric(workout_data['duration'])\n",
    "# workout_data['totalEnergyBurned'] = pd.to_numeric(workout_data['totalEnergyBurned'])\n",
    "# workout_data['totalDistance'] = pd.to_numeric(workout_data['totalDistance'])\n",
    "# workout_data.tail()"
   ]
  },
  {
   "cell_type": "code",
   "execution_count": 44,
   "id": "3f2969e6",
   "metadata": {},
   "outputs": [
    {
     "name": "stdout",
     "output_type": "stream",
     "text": [
      "{'HealthData', 'WorkoutStatistics', 'Me', 'HeartRateVariabilityMetadataList', 'WorkoutEvent', 'WorkoutRoute', 'MetadataEntry', 'ExportDate', 'FileReference', 'InstantaneousBeatsPerMinute', 'Record', 'ActivitySummary', 'Workout'}\n"
     ]
    }
   ],
   "source": [
    "print(data_types)"
   ]
  },
  {
   "cell_type": "code",
   "execution_count": 171,
   "id": "56a22dd0",
   "metadata": {},
   "outputs": [
    {
     "data": {
      "text/html": [
       "<div>\n",
       "<style scoped>\n",
       "    .dataframe tbody tr th:only-of-type {\n",
       "        vertical-align: middle;\n",
       "    }\n",
       "\n",
       "    .dataframe tbody tr th {\n",
       "        vertical-align: top;\n",
       "    }\n",
       "\n",
       "    .dataframe thead th {\n",
       "        text-align: right;\n",
       "    }\n",
       "</style>\n",
       "<table border=\"1\" class=\"dataframe\">\n",
       "  <thead>\n",
       "    <tr style=\"text-align: right;\">\n",
       "      <th></th>\n",
       "      <th>locale</th>\n",
       "    </tr>\n",
       "  </thead>\n",
       "  <tbody>\n",
       "    <tr>\n",
       "      <th>0</th>\n",
       "      <td>en_CA</td>\n",
       "    </tr>\n",
       "  </tbody>\n",
       "</table>\n",
       "</div>"
      ],
      "text/plain": [
       "  locale\n",
       "0  en_CA"
      ]
     },
     "execution_count": 171,
     "metadata": {},
     "output_type": "execute_result"
    }
   ],
   "source": [
    "df = load_dataframe('HealthData')\n",
    "df"
   ]
  },
  {
   "cell_type": "code",
   "execution_count": 165,
   "id": "dd3f5d13",
   "metadata": {},
   "outputs": [
    {
     "name": "stdout",
     "output_type": "stream",
     "text": [
      "Total calories burned since I got the watch:  951048.4548\n"
     ]
    }
   ],
   "source": [
    "activeCals = df.activeEnergyBurned.astype(float)\n",
    "print(\"Total calories burned since I got the watch: \", activeCals.sum())"
   ]
  },
  {
   "cell_type": "code",
   "execution_count": 168,
   "id": "fff095a3",
   "metadata": {},
   "outputs": [
    {
     "name": "stdout",
     "output_type": "stream",
     "text": [
      "Average calories burned per day:  889.6617912067352\n"
     ]
    }
   ],
   "source": [
    "averageCalsBurnedPerDay = activeCals.sum() / num_days \n",
    "print(\"Average calories burned per day: \", averageCalsBurnedPerDay)"
   ]
  },
  {
   "cell_type": "code",
   "execution_count": 169,
   "id": "5a1af633",
   "metadata": {},
   "outputs": [
    {
     "data": {
      "text/plain": [
       "56.2011322664314"
      ]
     },
     "execution_count": 169,
     "metadata": {},
     "output_type": "execute_result"
    }
   ],
   "source": [
    "50000 / averageCalsBurnedPerDay"
   ]
  },
  {
   "cell_type": "code",
   "execution_count": 157,
   "id": "dd8faf72",
   "metadata": {},
   "outputs": [
    {
     "name": "stdout",
     "output_type": "stream",
     "text": [
      "1069\n"
     ]
    }
   ],
   "source": [
    "dates = pd.to_datetime(df.dateComponents)\n",
    "days = dates.iloc[-1] - dates.iloc[0]\n",
    "num_days = days.days\n",
    "print(num_days)"
   ]
  },
  {
   "cell_type": "code",
   "execution_count": 159,
   "id": "3a0decc8",
   "metadata": {},
   "outputs": [
    {
     "data": {
      "text/plain": [
       "91.67446211412536"
      ]
     },
     "execution_count": 159,
     "metadata": {},
     "output_type": "execute_result"
    }
   ],
   "source": [
    "len(df) / num_days  *100"
   ]
  },
  {
   "cell_type": "code",
   "execution_count": 160,
   "id": "fac86dbf",
   "metadata": {},
   "outputs": [
    {
     "data": {
      "text/plain": [
       "92.14285714285714"
      ]
     },
     "execution_count": 160,
     "metadata": {},
     "output_type": "execute_result"
    }
   ],
   "source": [
    "903 / len(df)  * 100"
   ]
  },
  {
   "cell_type": "code",
   "execution_count": 162,
   "id": "e00f6528",
   "metadata": {},
   "outputs": [
    {
     "name": "stdout",
     "output_type": "stream",
     "text": [
      "Number of days I excersised since I got the watch: 84.47146866230122\n"
     ]
    }
   ],
   "source": [
    "print(\"Number of days I excersised since I got the watch:\", 903 / num_days * 100)"
   ]
  },
  {
   "cell_type": "code",
   "execution_count": 80,
   "id": "3fbadc62",
   "metadata": {},
   "outputs": [
    {
     "data": {
      "text/html": [
       "<div>\n",
       "<style scoped>\n",
       "    .dataframe tbody tr th:only-of-type {\n",
       "        vertical-align: middle;\n",
       "    }\n",
       "\n",
       "    .dataframe tbody tr th {\n",
       "        vertical-align: top;\n",
       "    }\n",
       "\n",
       "    .dataframe thead th {\n",
       "        text-align: right;\n",
       "    }\n",
       "</style>\n",
       "<table border=\"1\" class=\"dataframe\">\n",
       "  <thead>\n",
       "    <tr style=\"text-align: right;\">\n",
       "      <th></th>\n",
       "      <th>workoutActivityType</th>\n",
       "      <th>duration</th>\n",
       "      <th>durationUnit</th>\n",
       "      <th>sourceName</th>\n",
       "      <th>sourceVersion</th>\n",
       "      <th>device</th>\n",
       "      <th>creationDate</th>\n",
       "      <th>startDate</th>\n",
       "      <th>endDate</th>\n",
       "    </tr>\n",
       "  </thead>\n",
       "  <tbody>\n",
       "    <tr>\n",
       "      <th>0</th>\n",
       "      <td>HKWorkoutActivityTypeWalking</td>\n",
       "      <td>12.87223668297132</td>\n",
       "      <td>min</td>\n",
       "      <td>Adam’s Apple Watch</td>\n",
       "      <td>7.5</td>\n",
       "      <td>&lt;&lt;HKDevice: 0x302ca6f30&gt;, name:Apple Watch, ma...</td>\n",
       "      <td>2021-07-13 11:23:53 -0400</td>\n",
       "      <td>2021-07-13 11:11:00 -0400</td>\n",
       "      <td>2021-07-13 11:23:53 -0400</td>\n",
       "    </tr>\n",
       "    <tr>\n",
       "      <th>1</th>\n",
       "      <td>HKWorkoutActivityTypeDiscSports</td>\n",
       "      <td>55.56390554904938</td>\n",
       "      <td>min</td>\n",
       "      <td>Adam’s Apple Watch</td>\n",
       "      <td>7.5</td>\n",
       "      <td>&lt;&lt;HKDevice: 0x302ca6f30&gt;, name:Apple Watch, ma...</td>\n",
       "      <td>2021-07-13 18:33:24 -0400</td>\n",
       "      <td>2021-07-13 17:37:49 -0400</td>\n",
       "      <td>2021-07-13 18:33:23 -0400</td>\n",
       "    </tr>\n",
       "    <tr>\n",
       "      <th>2</th>\n",
       "      <td>HKWorkoutActivityTypeRunning</td>\n",
       "      <td>1.410094485680262</td>\n",
       "      <td>min</td>\n",
       "      <td>Adam’s Apple Watch</td>\n",
       "      <td>7.5</td>\n",
       "      <td>&lt;&lt;HKDevice: 0x302ca6f30&gt;, name:Apple Watch, ma...</td>\n",
       "      <td>2021-07-13 18:37:48 -0400</td>\n",
       "      <td>2021-07-13 18:35:35 -0400</td>\n",
       "      <td>2021-07-13 18:37:47 -0400</td>\n",
       "    </tr>\n",
       "    <tr>\n",
       "      <th>3</th>\n",
       "      <td>HKWorkoutActivityTypeTraditionalStrengthTraining</td>\n",
       "      <td>56.02488265236219</td>\n",
       "      <td>min</td>\n",
       "      <td>Adam’s Apple Watch</td>\n",
       "      <td>7.5</td>\n",
       "      <td>&lt;&lt;HKDevice: 0x302ca6f30&gt;, name:Apple Watch, ma...</td>\n",
       "      <td>2021-07-13 20:23:46 -0400</td>\n",
       "      <td>2021-07-13 19:20:27 -0400</td>\n",
       "      <td>2021-07-13 20:23:45 -0400</td>\n",
       "    </tr>\n",
       "    <tr>\n",
       "      <th>4</th>\n",
       "      <td>HKWorkoutActivityTypeWalking</td>\n",
       "      <td>16.15754281679789</td>\n",
       "      <td>min</td>\n",
       "      <td>Adam’s Apple Watch</td>\n",
       "      <td>7.5</td>\n",
       "      <td>&lt;&lt;HKDevice: 0x302ca6f30&gt;, name:Apple Watch, ma...</td>\n",
       "      <td>2021-07-14 11:04:12 -0400</td>\n",
       "      <td>2021-07-14 10:48:02 -0400</td>\n",
       "      <td>2021-07-14 11:04:12 -0400</td>\n",
       "    </tr>\n",
       "    <tr>\n",
       "      <th>...</th>\n",
       "      <td>...</td>\n",
       "      <td>...</td>\n",
       "      <td>...</td>\n",
       "      <td>...</td>\n",
       "      <td>...</td>\n",
       "      <td>...</td>\n",
       "      <td>...</td>\n",
       "      <td>...</td>\n",
       "      <td>...</td>\n",
       "    </tr>\n",
       "    <tr>\n",
       "      <th>988</th>\n",
       "      <td>HKWorkoutActivityTypeTennis</td>\n",
       "      <td>77.04600946704547</td>\n",
       "      <td>min</td>\n",
       "      <td>Adam’s Apple Watch</td>\n",
       "      <td>10.4</td>\n",
       "      <td>&lt;&lt;HKDevice: 0x302cff430&gt;, name:Apple Watch, ma...</td>\n",
       "      <td>2024-04-14 18:33:33 -0400</td>\n",
       "      <td>2024-04-14 17:16:22 -0400</td>\n",
       "      <td>2024-04-14 18:33:25 -0400</td>\n",
       "    </tr>\n",
       "    <tr>\n",
       "      <th>989</th>\n",
       "      <td>HKWorkoutActivityTypeWalking</td>\n",
       "      <td>26.83665318489075</td>\n",
       "      <td>min</td>\n",
       "      <td>Adam’s Apple Watch</td>\n",
       "      <td>10.4</td>\n",
       "      <td>&lt;&lt;HKDevice: 0x302cff430&gt;, name:Apple Watch, ma...</td>\n",
       "      <td>2024-04-15 13:27:04 -0400</td>\n",
       "      <td>2024-04-15 13:00:09 -0400</td>\n",
       "      <td>2024-04-15 13:26:59 -0400</td>\n",
       "    </tr>\n",
       "    <tr>\n",
       "      <th>990</th>\n",
       "      <td>HKWorkoutActivityTypeWalking</td>\n",
       "      <td>32.02597273389498</td>\n",
       "      <td>min</td>\n",
       "      <td>Adam’s Apple Watch</td>\n",
       "      <td>10.4</td>\n",
       "      <td>&lt;&lt;HKDevice: 0x302cff430&gt;, name:Apple Watch, ma...</td>\n",
       "      <td>2024-04-15 17:07:28 -0400</td>\n",
       "      <td>2024-04-15 16:35:22 -0400</td>\n",
       "      <td>2024-04-15 17:07:24 -0400</td>\n",
       "    </tr>\n",
       "    <tr>\n",
       "      <th>991</th>\n",
       "      <td>HKWorkoutActivityTypeTraditionalStrengthTraining</td>\n",
       "      <td>93.17174258430799</td>\n",
       "      <td>min</td>\n",
       "      <td>Adam’s Apple Watch</td>\n",
       "      <td>10.4</td>\n",
       "      <td>&lt;&lt;HKDevice: 0x302cff430&gt;, name:Apple Watch, ma...</td>\n",
       "      <td>2024-04-15 21:27:32 -0400</td>\n",
       "      <td>2024-04-15 19:54:14 -0400</td>\n",
       "      <td>2024-04-15 21:27:24 -0400</td>\n",
       "    </tr>\n",
       "    <tr>\n",
       "      <th>992</th>\n",
       "      <td>HKWorkoutActivityTypeWalking</td>\n",
       "      <td>24.48603189984957</td>\n",
       "      <td>min</td>\n",
       "      <td>Adam’s Apple Watch</td>\n",
       "      <td>10.4</td>\n",
       "      <td>&lt;&lt;HKDevice: 0x302cff430&gt;, name:Apple Watch, ma...</td>\n",
       "      <td>2024-04-16 11:04:05 -0400</td>\n",
       "      <td>2024-04-16 10:39:31 -0400</td>\n",
       "      <td>2024-04-16 11:04:00 -0400</td>\n",
       "    </tr>\n",
       "  </tbody>\n",
       "</table>\n",
       "<p>993 rows × 9 columns</p>\n",
       "</div>"
      ],
      "text/plain": [
       "                                  workoutActivityType           duration  \\\n",
       "0                        HKWorkoutActivityTypeWalking  12.87223668297132   \n",
       "1                     HKWorkoutActivityTypeDiscSports  55.56390554904938   \n",
       "2                        HKWorkoutActivityTypeRunning  1.410094485680262   \n",
       "3    HKWorkoutActivityTypeTraditionalStrengthTraining  56.02488265236219   \n",
       "4                        HKWorkoutActivityTypeWalking  16.15754281679789   \n",
       "..                                                ...                ...   \n",
       "988                       HKWorkoutActivityTypeTennis  77.04600946704547   \n",
       "989                      HKWorkoutActivityTypeWalking  26.83665318489075   \n",
       "990                      HKWorkoutActivityTypeWalking  32.02597273389498   \n",
       "991  HKWorkoutActivityTypeTraditionalStrengthTraining  93.17174258430799   \n",
       "992                      HKWorkoutActivityTypeWalking  24.48603189984957   \n",
       "\n",
       "    durationUnit          sourceName sourceVersion  \\\n",
       "0            min  Adam’s Apple Watch           7.5   \n",
       "1            min  Adam’s Apple Watch           7.5   \n",
       "2            min  Adam’s Apple Watch           7.5   \n",
       "3            min  Adam’s Apple Watch           7.5   \n",
       "4            min  Adam’s Apple Watch           7.5   \n",
       "..           ...                 ...           ...   \n",
       "988          min  Adam’s Apple Watch          10.4   \n",
       "989          min  Adam’s Apple Watch          10.4   \n",
       "990          min  Adam’s Apple Watch          10.4   \n",
       "991          min  Adam’s Apple Watch          10.4   \n",
       "992          min  Adam’s Apple Watch          10.4   \n",
       "\n",
       "                                                device  \\\n",
       "0    <<HKDevice: 0x302ca6f30>, name:Apple Watch, ma...   \n",
       "1    <<HKDevice: 0x302ca6f30>, name:Apple Watch, ma...   \n",
       "2    <<HKDevice: 0x302ca6f30>, name:Apple Watch, ma...   \n",
       "3    <<HKDevice: 0x302ca6f30>, name:Apple Watch, ma...   \n",
       "4    <<HKDevice: 0x302ca6f30>, name:Apple Watch, ma...   \n",
       "..                                                 ...   \n",
       "988  <<HKDevice: 0x302cff430>, name:Apple Watch, ma...   \n",
       "989  <<HKDevice: 0x302cff430>, name:Apple Watch, ma...   \n",
       "990  <<HKDevice: 0x302cff430>, name:Apple Watch, ma...   \n",
       "991  <<HKDevice: 0x302cff430>, name:Apple Watch, ma...   \n",
       "992  <<HKDevice: 0x302cff430>, name:Apple Watch, ma...   \n",
       "\n",
       "                  creationDate                  startDate  \\\n",
       "0    2021-07-13 11:23:53 -0400  2021-07-13 11:11:00 -0400   \n",
       "1    2021-07-13 18:33:24 -0400  2021-07-13 17:37:49 -0400   \n",
       "2    2021-07-13 18:37:48 -0400  2021-07-13 18:35:35 -0400   \n",
       "3    2021-07-13 20:23:46 -0400  2021-07-13 19:20:27 -0400   \n",
       "4    2021-07-14 11:04:12 -0400  2021-07-14 10:48:02 -0400   \n",
       "..                         ...                        ...   \n",
       "988  2024-04-14 18:33:33 -0400  2024-04-14 17:16:22 -0400   \n",
       "989  2024-04-15 13:27:04 -0400  2024-04-15 13:00:09 -0400   \n",
       "990  2024-04-15 17:07:28 -0400  2024-04-15 16:35:22 -0400   \n",
       "991  2024-04-15 21:27:32 -0400  2024-04-15 19:54:14 -0400   \n",
       "992  2024-04-16 11:04:05 -0400  2024-04-16 10:39:31 -0400   \n",
       "\n",
       "                       endDate  \n",
       "0    2021-07-13 11:23:53 -0400  \n",
       "1    2021-07-13 18:33:23 -0400  \n",
       "2    2021-07-13 18:37:47 -0400  \n",
       "3    2021-07-13 20:23:45 -0400  \n",
       "4    2021-07-14 11:04:12 -0400  \n",
       "..                         ...  \n",
       "988  2024-04-14 18:33:25 -0400  \n",
       "989  2024-04-15 13:26:59 -0400  \n",
       "990  2024-04-15 17:07:24 -0400  \n",
       "991  2024-04-15 21:27:24 -0400  \n",
       "992  2024-04-16 11:04:00 -0400  \n",
       "\n",
       "[993 rows x 9 columns]"
      ]
     },
     "execution_count": 80,
     "metadata": {},
     "output_type": "execute_result"
    }
   ],
   "source": [
    "df = load_dataframe('Workout')\n",
    "df"
   ]
  },
  {
   "cell_type": "code",
   "execution_count": 79,
   "id": "cf3cc29c",
   "metadata": {},
   "outputs": [
    {
     "name": "stdout",
     "output_type": "stream",
     "text": [
      "['HKQuantityTypeIdentifierActiveEnergyBurned'\n",
      " 'HKQuantityTypeIdentifierDistanceWalkingRunning'\n",
      " 'HKQuantityTypeIdentifierBasalEnergyBurned'\n",
      " 'HKQuantityTypeIdentifierHeartRate' 'HKQuantityTypeIdentifierStepCount'\n",
      " 'HKQuantityTypeIdentifierRunningGroundContactTime'\n",
      " 'HKQuantityTypeIdentifierRunningPower'\n",
      " 'HKQuantityTypeIdentifierRunningVerticalOscillation'\n",
      " 'HKQuantityTypeIdentifierRunningSpeed'\n",
      " 'HKQuantityTypeIdentifierRunningStrideLength'\n",
      " 'HKQuantityTypeIdentifierDistanceCycling']\n"
     ]
    }
   ],
   "source": [
    "# types of statistics \n",
    "stat_types = df['type'].unique()\n",
    "print(stat_types)"
   ]
  },
  {
   "cell_type": "code",
   "execution_count": 75,
   "id": "7400f9e3",
   "metadata": {},
   "outputs": [
    {
     "name": "stdout",
     "output_type": "stream",
     "text": [
      "['Walking' 'DiscSports' 'Running' 'TraditionalStrengthTraining' 'Yoga'\n",
      " 'TableTennis' 'Other' 'CoreTraining' 'Tennis' 'Golf' 'Hiking'\n",
      " 'HighIntensityIntervalTraining' 'SkatingSports' 'Cycling' 'Rowing'\n",
      " 'Volleyball' 'Soccer' 'FunctionalStrengthTraining' 'Squash'\n",
      " 'AmericanFootball' 'Hockey' 'Cooldown' 'Basketball' 'CardioDance' 'Rugby']\n"
     ]
    }
   ],
   "source": [
    "df = load_dataframe('Workout')\n",
    "workout_types = df['workoutActivityType'].str.replace('HKWorkoutActivityType', '').unique()\n",
    "print(workout_types)"
   ]
  },
  {
   "cell_type": "markdown",
   "id": "990a5b47",
   "metadata": {},
   "source": [
    "# Building full workout dataframe "
   ]
  },
  {
   "cell_type": "markdown",
   "id": "88a92197",
   "metadata": {},
   "source": [
    "This issue here is that workout types, start, and end dates are saved in \"Workout\" but the calorie data, distance run, etc. is all saved in \"WorkoutStatistics\", so I need to figure out how to merge these two datasets. The best way to do this is to align the start and end times. "
   ]
  },
  {
   "cell_type": "code",
   "execution_count": 138,
   "id": "ae328046",
   "metadata": {},
   "outputs": [],
   "source": [
    "workouts = load_dataframe('Workout')\n",
    "stats = load_dataframe('WorkoutStatistics')\n",
    "activity = load_dataframe('ActivitySummary')"
   ]
  },
  {
   "cell_type": "code",
   "execution_count": 139,
   "id": "bce84d89",
   "metadata": {},
   "outputs": [],
   "source": [
    "# start out with the workouts dataframe \n",
    "df = workouts.copy()\n",
    "\n",
    "# convert dates to datetime object \n",
    "for col in ['creationDate', 'startDate', 'endDate']:\n",
    "    df[col] = pd.to_datetime(df[col])\n",
    "\n",
    "for col in [\"startDate\", \"endDate\"]:\n",
    "    stats[col] = pd.to_datetime(stats[col])\n",
    "\n",
    "# drop the unnecessary columns\n",
    "df.drop(columns=['sourceName', 'sourceVersion', 'device'], inplace=True)\n",
    "\n",
    "# create a new column with clean workout type \n",
    "df['Type'] = df['workoutActivityType'].str.replace('HKWorkoutActivityType', '')\n",
    "\n",
    "# change name of all the type elements to remove HKQuantityTypeIdentifier\n",
    "stats['type'] = stats['type'].str.replace('HKQuantityTypeIdentifier', '')"
   ]
  },
  {
   "cell_type": "code",
   "execution_count": 140,
   "id": "0bbe0092",
   "metadata": {},
   "outputs": [],
   "source": [
    "# provides safe access to data that may not exist\n",
    "def access(call):\n",
    "    try: \n",
    "        return call()\n",
    "    except:\n",
    "        return np.nan"
   ]
  },
  {
   "cell_type": "code",
   "execution_count": 141,
   "id": "7f971ebf",
   "metadata": {},
   "outputs": [],
   "source": [
    "statistics_columns = [\"activeCalories\", \"basalCalories\", \"distance\", \"avgHeartRate\", \"minHeartRate\", \"maxHeartRate\", \"avgRunSpeed\", \"minRunSpeed\", \"maxRunSpeed\"]\n",
    "statistics = []\n",
    "\n",
    "for i in range(len(df)):\n",
    "    workout = df.iloc[i]\n",
    "    start = workout.startDate\n",
    "\n",
    "    recordedStats = stats[stats.startDate == start]\n",
    "\n",
    "    # Create np.nans if no data is available for a workout \n",
    "    if len(recordedStats) == 0:\n",
    "        workout_stats =  [np.nan] * len(statistics_columns)\n",
    "\n",
    "    else:\n",
    "        activeCalories = access(lambda: recordedStats.loc[recordedStats[\"type\"] == \"ActiveEnergyBurned\"][\"sum\"].values[0])\n",
    "        basalCalories = access(lambda: recordedStats.loc[recordedStats[\"type\"] == \"BasalEnergyBurned\"][\"sum\"].values[0])\n",
    "        distance = access(lambda: recordedStats.loc[recordedStats[\"type\"] == \"DistanceWalkingRunning\"][\"sum\"].values[0])\n",
    "        avgHeartRate = access(lambda: recordedStats.loc[recordedStats[\"type\"] == \"HeartRate\"][\"average\"].values[0])\n",
    "        minHeartRate = access(lambda: recordedStats.loc[recordedStats[\"type\"] == \"HeartRate\"][\"minimum\"].values[0])\n",
    "        maxHeartRate = access(lambda: recordedStats.loc[recordedStats[\"type\"] == \"HeartRate\"][\"maximum\"].values[0])\n",
    "        avgSpeed = access(lambda: recordedStats.loc[recordedStats[\"type\"] == \"RunningSpeed\"][\"average\"].values[0])\n",
    "        minSpeed = access(lambda: recordedStats.loc[recordedStats[\"type\"] == \"RunningSpeed\"][\"minimum\"].values[0])\n",
    "        maxSpeed = access(lambda: recordedStats.loc[recordedStats[\"type\"] == \"RunningSpeed\"][\"maximum\"].values[0])\n",
    " \n",
    "        workout_stats = [activeCalories, basalCalories, distance, avgHeartRate, minHeartRate, maxHeartRate, avgSpeed, minSpeed, maxSpeed]\n",
    "\n",
    "    statistics.append(workout_stats)\n",
    "\n",
    "# add to datafram \n",
    "statstics = np.array(statistics)\n",
    "\n",
    "for i, col in enumerate(statistics_columns):\n",
    "    df[col] = statstics[:,i]\n"
   ]
  },
  {
   "cell_type": "code",
   "execution_count": 143,
   "id": "605af5eb",
   "metadata": {},
   "outputs": [],
   "source": [
    "numeric_columns = [\"duration\", \"activeCalories\", \"basalCalories\", \"distance\", \"avgHeartRate\", \"minHeartRate\", \"maxHeartRate\", \"avgRunSpeed\", \"minRunSpeed\", \"maxRunSpeed\"]\n",
    "\n",
    "for col in numeric_columns:\n",
    "    df[col] = df[col].astype(float)"
   ]
  },
  {
   "cell_type": "markdown",
   "id": "34e99df1",
   "metadata": {},
   "source": [
    "# Analysis"
   ]
  },
  {
   "cell_type": "markdown",
   "id": "f217c1f3",
   "metadata": {},
   "source": [
    "## Average weekly calories burned "
   ]
  },
  {
   "cell_type": "code",
   "execution_count": 70,
   "id": "74a3e966",
   "metadata": {},
   "outputs": [],
   "source": [
    "# compute and plot the average active calories burned per week \n",
    "data = df.copy()\n",
    "data = data[[\"creationDate\", \"duration\", \"avgHeartRate\", \"activeCalories\", \"basalCalories\"]]"
   ]
  },
  {
   "cell_type": "code",
   "execution_count": 71,
   "id": "a4dcc815",
   "metadata": {},
   "outputs": [],
   "source": [
    "data.set_index('creationDate', inplace=True)"
   ]
  },
  {
   "cell_type": "code",
   "execution_count": 72,
   "id": "6c35202c",
   "metadata": {},
   "outputs": [],
   "source": [
    "data['totalCalories'] = data['activeCalories'] + data['basalCalories']"
   ]
  },
  {
   "cell_type": "code",
   "execution_count": 74,
   "id": "81eef909",
   "metadata": {},
   "outputs": [
    {
     "data": {
      "text/html": [
       "<div>\n",
       "<style scoped>\n",
       "    .dataframe tbody tr th:only-of-type {\n",
       "        vertical-align: middle;\n",
       "    }\n",
       "\n",
       "    .dataframe tbody tr th {\n",
       "        vertical-align: top;\n",
       "    }\n",
       "\n",
       "    .dataframe thead th {\n",
       "        text-align: right;\n",
       "    }\n",
       "</style>\n",
       "<table border=\"1\" class=\"dataframe\">\n",
       "  <thead>\n",
       "    <tr style=\"text-align: right;\">\n",
       "      <th></th>\n",
       "      <th>duration</th>\n",
       "      <th>avgHeartRate</th>\n",
       "      <th>activeCalories</th>\n",
       "      <th>basalCalories</th>\n",
       "      <th>totalCalories</th>\n",
       "    </tr>\n",
       "    <tr>\n",
       "      <th>creationDate</th>\n",
       "      <th></th>\n",
       "      <th></th>\n",
       "      <th></th>\n",
       "      <th></th>\n",
       "      <th></th>\n",
       "    </tr>\n",
       "  </thead>\n",
       "  <tbody>\n",
       "    <tr>\n",
       "      <th>2021-07-13 11:23:53-04:00</th>\n",
       "      <td>12.872237</td>\n",
       "      <td>0.000</td>\n",
       "      <td>78.46930</td>\n",
       "      <td>21.56530</td>\n",
       "      <td>100.03460</td>\n",
       "    </tr>\n",
       "    <tr>\n",
       "      <th>2021-07-13 18:33:24-04:00</th>\n",
       "      <td>55.563906</td>\n",
       "      <td>0.000</td>\n",
       "      <td>383.88700</td>\n",
       "      <td>94.01800</td>\n",
       "      <td>477.90500</td>\n",
       "    </tr>\n",
       "    <tr>\n",
       "      <th>2021-07-13 18:37:48-04:00</th>\n",
       "      <td>1.410094</td>\n",
       "      <td>0.000</td>\n",
       "      <td>6.36811</td>\n",
       "      <td>2.39157</td>\n",
       "      <td>8.75968</td>\n",
       "    </tr>\n",
       "    <tr>\n",
       "      <th>2021-07-13 20:23:46-04:00</th>\n",
       "      <td>56.024883</td>\n",
       "      <td>0.000</td>\n",
       "      <td>464.89200</td>\n",
       "      <td>93.93160</td>\n",
       "      <td>558.82360</td>\n",
       "    </tr>\n",
       "    <tr>\n",
       "      <th>2021-07-14 11:04:12-04:00</th>\n",
       "      <td>16.157543</td>\n",
       "      <td>0.000</td>\n",
       "      <td>56.26220</td>\n",
       "      <td>27.14070</td>\n",
       "      <td>83.40290</td>\n",
       "    </tr>\n",
       "    <tr>\n",
       "      <th>...</th>\n",
       "      <td>...</td>\n",
       "      <td>...</td>\n",
       "      <td>...</td>\n",
       "      <td>...</td>\n",
       "      <td>...</td>\n",
       "    </tr>\n",
       "    <tr>\n",
       "      <th>2024-04-14 18:33:33-04:00</th>\n",
       "      <td>77.046009</td>\n",
       "      <td>137.097</td>\n",
       "      <td>830.86600</td>\n",
       "      <td>126.49300</td>\n",
       "      <td>957.35900</td>\n",
       "    </tr>\n",
       "    <tr>\n",
       "      <th>2024-04-15 13:27:04-04:00</th>\n",
       "      <td>26.836653</td>\n",
       "      <td>104.589</td>\n",
       "      <td>124.58800</td>\n",
       "      <td>44.05050</td>\n",
       "      <td>168.63850</td>\n",
       "    </tr>\n",
       "    <tr>\n",
       "      <th>2024-04-15 17:07:28-04:00</th>\n",
       "      <td>32.025973</td>\n",
       "      <td>89.140</td>\n",
       "      <td>115.51800</td>\n",
       "      <td>52.59880</td>\n",
       "      <td>168.11680</td>\n",
       "    </tr>\n",
       "    <tr>\n",
       "      <th>2024-04-15 21:27:32-04:00</th>\n",
       "      <td>93.171743</td>\n",
       "      <td>138.461</td>\n",
       "      <td>982.57900</td>\n",
       "      <td>151.31400</td>\n",
       "      <td>1133.89300</td>\n",
       "    </tr>\n",
       "    <tr>\n",
       "      <th>2024-04-16 11:04:05-04:00</th>\n",
       "      <td>24.486032</td>\n",
       "      <td>110.900</td>\n",
       "      <td>117.96800</td>\n",
       "      <td>40.16690</td>\n",
       "      <td>158.13490</td>\n",
       "    </tr>\n",
       "  </tbody>\n",
       "</table>\n",
       "<p>993 rows × 5 columns</p>\n",
       "</div>"
      ],
      "text/plain": [
       "                            duration  avgHeartRate  activeCalories  \\\n",
       "creationDate                                                         \n",
       "2021-07-13 11:23:53-04:00  12.872237         0.000        78.46930   \n",
       "2021-07-13 18:33:24-04:00  55.563906         0.000       383.88700   \n",
       "2021-07-13 18:37:48-04:00   1.410094         0.000         6.36811   \n",
       "2021-07-13 20:23:46-04:00  56.024883         0.000       464.89200   \n",
       "2021-07-14 11:04:12-04:00  16.157543         0.000        56.26220   \n",
       "...                              ...           ...             ...   \n",
       "2024-04-14 18:33:33-04:00  77.046009       137.097       830.86600   \n",
       "2024-04-15 13:27:04-04:00  26.836653       104.589       124.58800   \n",
       "2024-04-15 17:07:28-04:00  32.025973        89.140       115.51800   \n",
       "2024-04-15 21:27:32-04:00  93.171743       138.461       982.57900   \n",
       "2024-04-16 11:04:05-04:00  24.486032       110.900       117.96800   \n",
       "\n",
       "                           basalCalories  totalCalories  \n",
       "creationDate                                             \n",
       "2021-07-13 11:23:53-04:00       21.56530      100.03460  \n",
       "2021-07-13 18:33:24-04:00       94.01800      477.90500  \n",
       "2021-07-13 18:37:48-04:00        2.39157        8.75968  \n",
       "2021-07-13 20:23:46-04:00       93.93160      558.82360  \n",
       "2021-07-14 11:04:12-04:00       27.14070       83.40290  \n",
       "...                                  ...            ...  \n",
       "2024-04-14 18:33:33-04:00      126.49300      957.35900  \n",
       "2024-04-15 13:27:04-04:00       44.05050      168.63850  \n",
       "2024-04-15 17:07:28-04:00       52.59880      168.11680  \n",
       "2024-04-15 21:27:32-04:00      151.31400     1133.89300  \n",
       "2024-04-16 11:04:05-04:00       40.16690      158.13490  \n",
       "\n",
       "[993 rows x 5 columns]"
      ]
     },
     "execution_count": 74,
     "metadata": {},
     "output_type": "execute_result"
    }
   ],
   "source": [
    "data = data.fillna(0)"
   ]
  },
  {
   "cell_type": "code",
   "execution_count": 112,
   "id": "a5e052c8",
   "metadata": {},
   "outputs": [],
   "source": [
    "monthly_total = data['totalCalories'].resample('M').sum()\n",
    "monthly_active = data['activeCalories'].resample('M').sum()"
   ]
  },
  {
   "cell_type": "code",
   "execution_count": 106,
   "id": "d2ddca18",
   "metadata": {},
   "outputs": [
    {
     "data": {
      "text/plain": [
       "array(['Walking', 'DiscSports', 'Running', 'TraditionalStrengthTraining',\n",
       "       'Yoga', 'TableTennis', 'Other', 'CoreTraining', 'Tennis', 'Golf',\n",
       "       'Hiking', 'HighIntensityIntervalTraining', 'SkatingSports',\n",
       "       'Cycling', 'Rowing', 'Volleyball', 'Soccer',\n",
       "       'FunctionalStrengthTraining', 'Squash', 'AmericanFootball',\n",
       "       'Hockey', 'Cooldown', 'Basketball', 'CardioDance', 'Rugby'],\n",
       "      dtype=object)"
      ]
     },
     "execution_count": 106,
     "metadata": {},
     "output_type": "execute_result"
    }
   ],
   "source": [
    "df.Type.unique()"
   ]
  },
  {
   "cell_type": "code",
   "execution_count": 123,
   "id": "0dec3600",
   "metadata": {},
   "outputs": [],
   "source": [
    "# get tennis and gym only \n",
    "tennis = df.loc[df.Type==\"Tennis\"]\n",
    "gym = df.loc[(df.Type==\"TraditionalStrengthTraining\") |  (df.Type == \"FunctionalStrengthTraining\")]\n",
    "running = df.loc[df.Type==\"Running\"]\n",
    "\n",
    "tennis = tennis[[\"creationDate\", \"duration\", \"avgHeartRate\", \"activeCalories\", \"basalCalories\"]]\n",
    "gym = gym[[\"creationDate\", \"duration\", \"avgHeartRate\", \"activeCalories\", \"basalCalories\"]]\n",
    "running = running[[\"creationDate\", \"duration\", \"avgHeartRate\", \"activeCalories\", \"basalCalories\"]]\n",
    "\n",
    "tennis.set_index('creationDate', inplace=True)\n",
    "gym.set_index('creationDate', inplace=True)\n",
    "running.set_index('creationDate', inplace=True)\n",
    "\n",
    "tennis[\"totalCalories\"] = tennis[\"activeCalories\"] + tennis[\"basalCalories\"]\n",
    "gym[\"totalCalories\"] = gym[\"activeCalories\"] + gym[\"basalCalories\"]\n",
    "running[\"totalCalories\"] = running[\"activeCalories\"] + running[\"basalCalories\"]\n",
    "\n",
    "tennis = tennis.fillna(0)\n",
    "gym = gym.fillna(0)\n",
    "running = running.fillna(0)\n",
    "\n",
    "monthly_tennis = tennis['totalCalories'].resample('M').sum()\n",
    "monthly_gym = gym['totalCalories'].resample('M').sum()\n",
    "monthly_run = running['totalCalories'].resample('M').sum()"
   ]
  },
  {
   "cell_type": "code",
   "execution_count": 126,
   "id": "9d8cfa6f",
   "metadata": {},
   "outputs": [
    {
     "data": {
      "image/png": "[encoded data removed]",
      "text/plain": [
       "<Figure size 1000x600 with 1 Axes>"
      ]
     },
     "metadata": {},
     "output_type": "display_data"
    }
   ],
   "source": [
    "# Plotting the total calories burned per week\n",
    "plt.figure(figsize=(10, 6))\n",
    "plt.plot(monthly_total, color='k', lw=2, label=\"Total Calories\")\n",
    "plt.plot(monthly_tennis, color='C0', lw=2, label=\"Tennis\")\n",
    "plt.plot(monthly_gym, color='C1', lw=2, label=\"Workout\")\n",
    "# plt.plot(monthly_run, color='C3', lw=2, label=\"Running\")\n",
    "\n",
    "for year in range(2021, 2024):\n",
    "    plt.axvspan(pd.Timestamp(f'{year}-05-01'), pd.Timestamp(f'{year}-10-30'), color='orange', alpha=0.3)\n",
    "\n",
    "for year in range(2021, 2024):\n",
    "    next_year = year+1\n",
    "    plt.axvspan(pd.Timestamp(f'{year}-11-01'), pd.Timestamp(f'{next_year}-04-30'), color='gray', alpha=0.3)\n",
    "\n",
    "plt.axvspan(pd.Timestamp('2022-01-12'), pd.Timestamp('2022-01-30'), color='green', alpha=0.3, label=\"Vacation\")\n",
    "plt.axvspan(pd.Timestamp('2022-08-18'), pd.Timestamp('2022-09-15'), color='green', alpha=0.3)\n",
    "plt.axvspan(pd.Timestamp('2023-12-19'), pd.Timestamp('2024-01-12'), color='green', alpha=0.3)\n",
    "\n",
    "plt.axvspan(np.nan, np.nan, color='orange', alpha=0.3, label=\"Summer\")\n",
    "plt.axvspan(np.nan, np.nan, color='gray', alpha=0.3, label=\"Winter\")\n",
    "\n",
    "plt.title('Total Calories Burned Per Month')\n",
    "plt.xlabel('Date [Y-M-D]')\n",
    "plt.ylabel('Total Calories Burned')\n",
    "plt.grid(True)\n",
    "plt.legend()\n",
    "plt.xlim(monthly_total.index[0], monthly_total.index[-1])\n",
    "# plt.savefig(\"plots/total_calories.png\")\n",
    "plt.show()"
   ]
  },
  {
   "cell_type": "markdown",
   "id": "8a6d8f7c",
   "metadata": {},
   "source": [
    "## Step count"
   ]
  },
  {
   "cell_type": "code",
   "execution_count": 150,
   "id": "695d5113",
   "metadata": {},
   "outputs": [
    {
     "data": {
      "text/plain": [
       "1520       3653\n",
       "1546    2357.09\n",
       "1590    3903.88\n",
       "1609       3554\n",
       "1881       2364\n",
       "2042       2099\n",
       "2078    3035.32\n",
       "2100       3808\n",
       "2517       4733\n",
       "2921       2983\n",
       "Name: sum, dtype: object"
      ]
     },
     "execution_count": 150,
     "metadata": {},
     "output_type": "execute_result"
    }
   ],
   "source": [
    "data = stats.copy()\n",
    "data.loc[data.type == \"StepCount\"][\"sum\"]"
   ]
  },
  {
   "cell_type": "code",
   "execution_count": 146,
   "id": "279b57f9",
   "metadata": {},
   "outputs": [
    {
     "data": {
      "text/html": [
       "<div>\n",
       "<style scoped>\n",
       "    .dataframe tbody tr th:only-of-type {\n",
       "        vertical-align: middle;\n",
       "    }\n",
       "\n",
       "    .dataframe tbody tr th {\n",
       "        vertical-align: top;\n",
       "    }\n",
       "\n",
       "    .dataframe thead th {\n",
       "        text-align: right;\n",
       "    }\n",
       "</style>\n",
       "<table border=\"1\" class=\"dataframe\">\n",
       "  <thead>\n",
       "    <tr style=\"text-align: right;\">\n",
       "      <th></th>\n",
       "      <th>type</th>\n",
       "      <th>startDate</th>\n",
       "      <th>endDate</th>\n",
       "      <th>sum</th>\n",
       "      <th>unit</th>\n",
       "      <th>average</th>\n",
       "      <th>minimum</th>\n",
       "      <th>maximum</th>\n",
       "    </tr>\n",
       "  </thead>\n",
       "  <tbody>\n",
       "    <tr>\n",
       "      <th>0</th>\n",
       "      <td>ActiveEnergyBurned</td>\n",
       "      <td>2021-07-13 11:11:00-04:00</td>\n",
       "      <td>2021-07-13 11:23:53-04:00</td>\n",
       "      <td>78.4693</td>\n",
       "      <td>Cal</td>\n",
       "      <td>NaN</td>\n",
       "      <td>NaN</td>\n",
       "      <td>NaN</td>\n",
       "    </tr>\n",
       "    <tr>\n",
       "      <th>1</th>\n",
       "      <td>DistanceWalkingRunning</td>\n",
       "      <td>2021-07-13 11:11:00-04:00</td>\n",
       "      <td>2021-07-13 11:23:53-04:00</td>\n",
       "      <td>1.30216</td>\n",
       "      <td>km</td>\n",
       "      <td>NaN</td>\n",
       "      <td>NaN</td>\n",
       "      <td>NaN</td>\n",
       "    </tr>\n",
       "    <tr>\n",
       "      <th>2</th>\n",
       "      <td>BasalEnergyBurned</td>\n",
       "      <td>2021-07-13 11:11:00-04:00</td>\n",
       "      <td>2021-07-13 11:23:53-04:00</td>\n",
       "      <td>21.5653</td>\n",
       "      <td>Cal</td>\n",
       "      <td>NaN</td>\n",
       "      <td>NaN</td>\n",
       "      <td>NaN</td>\n",
       "    </tr>\n",
       "    <tr>\n",
       "      <th>3</th>\n",
       "      <td>ActiveEnergyBurned</td>\n",
       "      <td>2021-07-13 17:37:49-04:00</td>\n",
       "      <td>2021-07-13 18:33:23-04:00</td>\n",
       "      <td>383.887</td>\n",
       "      <td>Cal</td>\n",
       "      <td>NaN</td>\n",
       "      <td>NaN</td>\n",
       "      <td>NaN</td>\n",
       "    </tr>\n",
       "    <tr>\n",
       "      <th>4</th>\n",
       "      <td>BasalEnergyBurned</td>\n",
       "      <td>2021-07-13 17:37:49-04:00</td>\n",
       "      <td>2021-07-13 18:33:23-04:00</td>\n",
       "      <td>94.018</td>\n",
       "      <td>Cal</td>\n",
       "      <td>NaN</td>\n",
       "      <td>NaN</td>\n",
       "      <td>NaN</td>\n",
       "    </tr>\n",
       "    <tr>\n",
       "      <th>...</th>\n",
       "      <td>...</td>\n",
       "      <td>...</td>\n",
       "      <td>...</td>\n",
       "      <td>...</td>\n",
       "      <td>...</td>\n",
       "      <td>...</td>\n",
       "      <td>...</td>\n",
       "      <td>...</td>\n",
       "    </tr>\n",
       "    <tr>\n",
       "      <th>2953</th>\n",
       "      <td>BasalEnergyBurned</td>\n",
       "      <td>2024-04-15 19:54:14-04:00</td>\n",
       "      <td>2024-04-15 21:27:24-04:00</td>\n",
       "      <td>151.314</td>\n",
       "      <td>Cal</td>\n",
       "      <td>NaN</td>\n",
       "      <td>NaN</td>\n",
       "      <td>NaN</td>\n",
       "    </tr>\n",
       "    <tr>\n",
       "      <th>2954</th>\n",
       "      <td>DistanceWalkingRunning</td>\n",
       "      <td>2024-04-16 10:39:31-04:00</td>\n",
       "      <td>2024-04-16 11:04:00-04:00</td>\n",
       "      <td>2.22902</td>\n",
       "      <td>km</td>\n",
       "      <td>NaN</td>\n",
       "      <td>NaN</td>\n",
       "      <td>NaN</td>\n",
       "    </tr>\n",
       "    <tr>\n",
       "      <th>2955</th>\n",
       "      <td>BasalEnergyBurned</td>\n",
       "      <td>2024-04-16 10:39:31-04:00</td>\n",
       "      <td>2024-04-16 11:04:00-04:00</td>\n",
       "      <td>40.1669</td>\n",
       "      <td>Cal</td>\n",
       "      <td>NaN</td>\n",
       "      <td>NaN</td>\n",
       "      <td>NaN</td>\n",
       "    </tr>\n",
       "    <tr>\n",
       "      <th>2956</th>\n",
       "      <td>HeartRate</td>\n",
       "      <td>2024-04-16 10:39:31-04:00</td>\n",
       "      <td>2024-04-16 11:04:00-04:00</td>\n",
       "      <td>NaN</td>\n",
       "      <td>count/min</td>\n",
       "      <td>110.9</td>\n",
       "      <td>104</td>\n",
       "      <td>125</td>\n",
       "    </tr>\n",
       "    <tr>\n",
       "      <th>2957</th>\n",
       "      <td>ActiveEnergyBurned</td>\n",
       "      <td>2024-04-16 10:39:31-04:00</td>\n",
       "      <td>2024-04-16 11:04:00-04:00</td>\n",
       "      <td>117.968</td>\n",
       "      <td>Cal</td>\n",
       "      <td>NaN</td>\n",
       "      <td>NaN</td>\n",
       "      <td>NaN</td>\n",
       "    </tr>\n",
       "  </tbody>\n",
       "</table>\n",
       "<p>2958 rows × 8 columns</p>\n",
       "</div>"
      ],
      "text/plain": [
       "                        type                 startDate  \\\n",
       "0         ActiveEnergyBurned 2021-07-13 11:11:00-04:00   \n",
       "1     DistanceWalkingRunning 2021-07-13 11:11:00-04:00   \n",
       "2          BasalEnergyBurned 2021-07-13 11:11:00-04:00   \n",
       "3         ActiveEnergyBurned 2021-07-13 17:37:49-04:00   \n",
       "4          BasalEnergyBurned 2021-07-13 17:37:49-04:00   \n",
       "...                      ...                       ...   \n",
       "2953       BasalEnergyBurned 2024-04-15 19:54:14-04:00   \n",
       "2954  DistanceWalkingRunning 2024-04-16 10:39:31-04:00   \n",
       "2955       BasalEnergyBurned 2024-04-16 10:39:31-04:00   \n",
       "2956               HeartRate 2024-04-16 10:39:31-04:00   \n",
       "2957      ActiveEnergyBurned 2024-04-16 10:39:31-04:00   \n",
       "\n",
       "                       endDate      sum       unit average minimum maximum  \n",
       "0    2021-07-13 11:23:53-04:00  78.4693        Cal     NaN     NaN     NaN  \n",
       "1    2021-07-13 11:23:53-04:00  1.30216         km     NaN     NaN     NaN  \n",
       "2    2021-07-13 11:23:53-04:00  21.5653        Cal     NaN     NaN     NaN  \n",
       "3    2021-07-13 18:33:23-04:00  383.887        Cal     NaN     NaN     NaN  \n",
       "4    2021-07-13 18:33:23-04:00   94.018        Cal     NaN     NaN     NaN  \n",
       "...                        ...      ...        ...     ...     ...     ...  \n",
       "2953 2024-04-15 21:27:24-04:00  151.314        Cal     NaN     NaN     NaN  \n",
       "2954 2024-04-16 11:04:00-04:00  2.22902         km     NaN     NaN     NaN  \n",
       "2955 2024-04-16 11:04:00-04:00  40.1669        Cal     NaN     NaN     NaN  \n",
       "2956 2024-04-16 11:04:00-04:00      NaN  count/min   110.9     104     125  \n",
       "2957 2024-04-16 11:04:00-04:00  117.968        Cal     NaN     NaN     NaN  \n",
       "\n",
       "[2958 rows x 8 columns]"
      ]
     },
     "execution_count": 146,
     "metadata": {},
     "output_type": "execute_result"
    }
   ],
   "source": [
    "data"
   ]
  },
  {
   "cell_type": "code",
   "execution_count": null,
   "id": "83e063b1",
   "metadata": {},
   "outputs": [],
   "source": []
  }
 ],
 "metadata": {
  "kernelspec": {
   "display_name": "tf",
   "language": "python",
   "name": "python3"
  },
  "language_info": {
   "codemirror_mode": {
    "name": "ipython",
    "version": 3
   },
   "file_extension": ".py",
   "mimetype": "text/x-python",
   "name": "python",
   "nbconvert_exporter": "python",
   "pygments_lexer": "ipython3",
   "version": "3.11.5"
  }
 },
 "nbformat": 4,
 "nbformat_minor": 5
}
